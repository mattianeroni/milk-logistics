{
 "cells": [
  {
   "cell_type": "code",
   "execution_count": 1,
   "id": "08fdc662",
   "metadata": {},
   "outputs": [
    {
     "ename": "ModuleNotFoundError",
     "evalue": "No module named 'node'",
     "output_type": "error",
     "traceback": [
      "\u001b[0;31m---------------------------------------------------------------------------\u001b[0m",
      "\u001b[0;31mModuleNotFoundError\u001b[0m                       Traceback (most recent call last)",
      "Input \u001b[0;32mIn [1]\u001b[0m, in \u001b[0;36m<module>\u001b[0;34m\u001b[0m\n\u001b[1;32m      2\u001b[0m \u001b[38;5;28;01mimport\u001b[39;00m \u001b[38;5;21;01mnumpy\u001b[39;00m \u001b[38;5;28;01mas\u001b[39;00m \u001b[38;5;21;01mnp\u001b[39;00m\n\u001b[1;32m      3\u001b[0m \u001b[38;5;28;01mimport\u001b[39;00m \u001b[38;5;21;01mmath\u001b[39;00m\n\u001b[0;32m----> 5\u001b[0m \u001b[38;5;28;01mimport\u001b[39;00m \u001b[38;5;21;01mutils\u001b[39;00m\n",
      "File \u001b[0;32m~/Scaricati/milk-logistics/tests/utils.py:9\u001b[0m, in \u001b[0;36m<module>\u001b[0;34m\u001b[0m\n\u001b[1;32m      6\u001b[0m \u001b[38;5;28;01mimport\u001b[39;00m \u001b[38;5;21;01mnetworkx\u001b[39;00m \u001b[38;5;28;01mas\u001b[39;00m \u001b[38;5;21;01mnx\u001b[39;00m\n\u001b[1;32m      7\u001b[0m \u001b[38;5;28;01mimport\u001b[39;00m \u001b[38;5;21;01mmatplotlib\u001b[39;00m\u001b[38;5;21;01m.\u001b[39;00m\u001b[38;5;21;01mpyplot\u001b[39;00m \u001b[38;5;28;01mas\u001b[39;00m \u001b[38;5;21;01mplt\u001b[39;00m\n\u001b[0;32m----> 9\u001b[0m \u001b[38;5;28;01mimport\u001b[39;00m \u001b[38;5;21;01mnode\u001b[39;00m\n\u001b[1;32m     10\u001b[0m \u001b[38;5;28;01mimport\u001b[39;00m \u001b[38;5;21;01medge\u001b[39;00m\n\u001b[1;32m     13\u001b[0m \u001b[38;5;66;03m# Single-source benchmarks\u001b[39;00m\n",
      "\u001b[0;31mModuleNotFoundError\u001b[0m: No module named 'node'"
     ]
    }
   ],
   "source": [
    "import os\n",
    "import numpy as np\n",
    "import math\n",
    "\n",
    "import utils"
   ]
  },
  {
   "cell_type": "code",
   "execution_count": null,
   "id": "b143ecaf",
   "metadata": {},
   "outputs": [],
   "source": [
    "def _euclidean (inode, jnode):\n",
    "    x1, y1, _ = inode\n",
    "    x2, y2, _ = jnode\n",
    "    return math.sqrt((x1 - x2)**2 + (y1 - y2)**2)\n",
    "\n",
    "\n",
    "\n",
    "def _capacities_to_txt (lst):\n",
    "    return \"-\".join([str(i) for i in lst])"
   ]
  },
  {
   "cell_type": "code",
   "execution_count": null,
   "id": "e8ad99ea",
   "metadata": {},
   "outputs": [],
   "source": [
    "filenames = os.listdir(\"./TOP/\")\n",
    "for filename in filenames:\n",
    "    problem = utils.read_single_source(filename, path=\"./TOP/\")\n",
    "\n",
    "    print(problem)\n",
    "\n",
    "    \"\"\"\n",
    "        with open(f\"./TOP/{filename}\", \"r\") as file:\n",
    "\n",
    "            # Read problem parameters\n",
    "            line1 = next(file)\n",
    "            line2 = next(file)\n",
    "            line3 = next(file)\n",
    "            n_nodes = int(line1.replace('\\n','').split(' ')[1])\n",
    "            n_vehicles = int(line2.replace('\\n','').split(' ')[1])\n",
    "            Tmax = float(line3.replace('\\n','').split(' ')[1])\n",
    "\n",
    "            \n",
    "            nodes, total_qty = [], 0\n",
    "            for line in file:\n",
    "                node_info = line.split('\\t')\n",
    "                nodes.append((float(node_info[0]), float(node_info[1]), int(node_info[2])))\n",
    "                total_qty +=  int(node_info[2])\n",
    "\n",
    "            dists = np.array([[_euclidean(n1,n2) for n2 in nodes] for n1 in nodes])\n",
    "\n",
    "            # The capacity of the vehicles is calculated to be enough to fulfill\n",
    "            # all the customers and is randomly assigned to the different vehicles\n",
    "            _assign = np.random.rand(n_vehicles)\n",
    "            _assign /= _assign.sum()\n",
    "            capacity = (_assign * total_qty + 1).astype(\"int32\")\n",
    "            Tmax = dists.mean().astype(\"int32\") * n_nodes\n",
    "\n",
    "            with open(f\"./single/{filename}\", \"w\") as outfile:\n",
    "                outfile.write(line1)\n",
    "                outfile.write(line2)\n",
    "                outfile.write(f\"tmax {Tmax}\\n\")\n",
    "                n = nodes[0]\n",
    "                outfile.write(f\"{n[0]}\\t{n[1]}\\t{n[2]}\\t1\\t{_capacities_to_txt(capacity.tolist())}\\n\")\n",
    "                for n in nodes[1:]:\n",
    "                    outfile.write(f\"{n[0]}\\t{n[1]}\\t{n[2]}\\t0\\t\\n\")\n",
    "    \"\"\"\n",
    "    break"
   ]
  },
  {
   "cell_type": "code",
   "execution_count": null,
   "id": "d2f457c2",
   "metadata": {},
   "outputs": [],
   "source": []
  }
 ],
 "metadata": {
  "kernelspec": {
   "display_name": "Python 3 (ipykernel)",
   "language": "python",
   "name": "python3"
  },
  "language_info": {
   "codemirror_mode": {
    "name": "ipython",
    "version": 3
   },
   "file_extension": ".py",
   "mimetype": "text/x-python",
   "name": "python",
   "nbconvert_exporter": "python",
   "pygments_lexer": "ipython3",
   "version": "3.9.7"
  }
 },
 "nbformat": 4,
 "nbformat_minor": 5
}
